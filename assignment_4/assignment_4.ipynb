{
 "cells": [
  {
   "cell_type": "code",
   "execution_count": 1,
   "metadata": {},
   "outputs": [
    {
     "name": "stderr",
     "output_type": "stream",
     "text": [
      "Using TensorFlow backend.\n"
     ]
    }
   ],
   "source": [
    "from keras.optimizers import Adam\n",
    "from keras.layers import Activation, Dense\n",
    "from keras.models import Sequential\n",
    "from keras.utils import np_utils\n",
    "from keras.datasets import mnist\n",
    "import numpy as np\n",
    "import os"
   ]
  },
  {
   "cell_type": "markdown",
   "metadata": {},
   "source": [
    "### read mnist dataset"
   ]
  },
  {
   "cell_type": "code",
   "execution_count": 2,
   "metadata": {},
   "outputs": [],
   "source": [
    "dataset_path = os.path.join(\"dataset\", \"mnist.npz\")\n",
    "dataset = np.load(dataset_path)\n",
    "x_train, y_train = dataset[\"x_train\"], dataset[\"y_train\"]\n",
    "x_test, y_test = dataset[\"x_test\"], dataset[\"y_test\"]"
   ]
  },
  {
   "cell_type": "code",
   "execution_count": 3,
   "metadata": {},
   "outputs": [
    {
     "name": "stdout",
     "output_type": "stream",
     "text": [
      "x_train.shape (60000, 28, 28)\n",
      "y_train.shape (60000,)\n",
      "x_test.shape (10000, 28, 28)\n",
      "y_test.shape (10000,)\n"
     ]
    }
   ],
   "source": [
    "print(\"x_train.shape\", x_train.shape)\n",
    "print(\"y_train.shape\", y_train.shape)\n",
    "print(\"x_test.shape\", x_test.shape)\n",
    "print(\"y_test.shape\", y_test.shape)"
   ]
  },
  {
   "cell_type": "markdown",
   "metadata": {},
   "source": [
    "### preprocess dataset"
   ]
  },
  {
   "cell_type": "code",
   "execution_count": 4,
   "metadata": {},
   "outputs": [
    {
     "name": "stdout",
     "output_type": "stream",
     "text": [
      "x_train.shape (60000, 784)\n",
      "x_test.shape (10000, 784)\n"
     ]
    }
   ],
   "source": [
    "x_train = x_train.reshape(x_train.shape[0],\\\n",
    "                          x_train.shape[1]*x_train.shape[2]).astype('float32')\n",
    "x_test = x_test.reshape(x_test.shape[0], \\\n",
    "                        x_test.shape[1]*x_test.shape[2]).astype('float32')\n",
    "\n",
    "x_train /= 255\n",
    "x_test /= 255\n",
    "\n",
    "print(\"x_train.shape\", x_train.shape)\n",
    "print(\"x_test.shape\", x_test.shape)"
   ]
  },
  {
   "cell_type": "code",
   "execution_count": 5,
   "metadata": {},
   "outputs": [
    {
     "name": "stdout",
     "output_type": "stream",
     "text": [
      "y_train.shape (60000, 10)\n",
      "y_test.shape (10000, 10)\n"
     ]
    }
   ],
   "source": [
    "y_train = np_utils.to_categorical(y_train, num_classes=10)\n",
    "y_test = np_utils.to_categorical(y_test, num_classes=10)\n",
    "\n",
    "print(\"y_train.shape\", y_train.shape)\n",
    "print(\"y_test.shape\", y_test.shape)"
   ]
  },
  {
   "cell_type": "markdown",
   "metadata": {},
   "source": [
    "## build neural network"
   ]
  },
  {
   "cell_type": "code",
   "execution_count": 6,
   "metadata": {},
   "outputs": [
    {
     "name": "stdout",
     "output_type": "stream",
     "text": [
      "Model: \"sequential_1\"\n",
      "_________________________________________________________________\n",
      "Layer (type)                 Output Shape              Param #   \n",
      "=================================================================\n",
      "dense_1 (Dense)              (None, 64)                50240     \n",
      "_________________________________________________________________\n",
      "dense_2 (Dense)              (None, 128)               8320      \n",
      "_________________________________________________________________\n",
      "dense_3 (Dense)              (None, 64)                8256      \n",
      "_________________________________________________________________\n",
      "dense_4 (Dense)              (None, 10)                650       \n",
      "=================================================================\n",
      "Total params: 67,466\n",
      "Trainable params: 67,466\n",
      "Non-trainable params: 0\n",
      "_________________________________________________________________\n"
     ]
    }
   ],
   "source": [
    "model = Sequential([\n",
    "    Dense(64, activation='relu', input_shape=(x_train.shape[1],)),\n",
    "    Dense(128, activation='relu'),\n",
    "    Dense(64, activation='relu'),\n",
    "    Dense(10, activation='softmax')\n",
    "])\n",
    "\n",
    "model.summary()"
   ]
  },
  {
   "cell_type": "markdown",
   "metadata": {},
   "source": [
    "### compile model"
   ]
  },
  {
   "cell_type": "code",
   "execution_count": 7,
   "metadata": {},
   "outputs": [],
   "source": [
    "model.compile(loss='categorical_crossentropy',\n",
    "             optimizer=Adam(),\n",
    "             metrics=['accuracy'])"
   ]
  },
  {
   "cell_type": "markdown",
   "metadata": {},
   "source": [
    "### train neural network"
   ]
  },
  {
   "cell_type": "code",
   "execution_count": 8,
   "metadata": {},
   "outputs": [
    {
     "name": "stdout",
     "output_type": "stream",
     "text": [
      "Train on 60000 samples, validate on 10000 samples\n",
      "Epoch 1/30\n",
      "60000/60000 [==============================] - 3s 46us/step - loss: 0.2594 - accuracy: 0.9214 - val_loss: 0.1769 - val_accuracy: 0.9422\n",
      "Epoch 2/30\n",
      "60000/60000 [==============================] - 3s 43us/step - loss: 0.1143 - accuracy: 0.9648 - val_loss: 0.0996 - val_accuracy: 0.9694\n",
      "Epoch 3/30\n",
      "60000/60000 [==============================] - 3s 44us/step - loss: 0.0857 - accuracy: 0.9733 - val_loss: 0.0991 - val_accuracy: 0.9694\n",
      "Epoch 4/30\n",
      "60000/60000 [==============================] - 3s 42us/step - loss: 0.0674 - accuracy: 0.9787 - val_loss: 0.0873 - val_accuracy: 0.9740\n",
      "Epoch 5/30\n",
      "60000/60000 [==============================] - 3s 42us/step - loss: 0.0567 - accuracy: 0.9817 - val_loss: 0.0818 - val_accuracy: 0.9745\n",
      "Epoch 6/30\n",
      "60000/60000 [==============================] - 3s 43us/step - loss: 0.0477 - accuracy: 0.9844 - val_loss: 0.0802 - val_accuracy: 0.9761\n",
      "Epoch 7/30\n",
      "60000/60000 [==============================] - 3s 43us/step - loss: 0.0430 - accuracy: 0.9858 - val_loss: 0.0775 - val_accuracy: 0.9749\n",
      "Epoch 8/30\n",
      "60000/60000 [==============================] - 2s 38us/step - loss: 0.0366 - accuracy: 0.9880 - val_loss: 0.0816 - val_accuracy: 0.9772\n",
      "Epoch 9/30\n",
      "60000/60000 [==============================] - 3s 42us/step - loss: 0.0321 - accuracy: 0.9895 - val_loss: 0.0889 - val_accuracy: 0.9750\n",
      "Epoch 10/30\n",
      "60000/60000 [==============================] - 2s 42us/step - loss: 0.0288 - accuracy: 0.9904 - val_loss: 0.1120 - val_accuracy: 0.9725\n",
      "Epoch 11/30\n",
      "60000/60000 [==============================] - 3s 44us/step - loss: 0.0261 - accuracy: 0.9916 - val_loss: 0.0899 - val_accuracy: 0.9785\n",
      "Epoch 12/30\n",
      "60000/60000 [==============================] - 2s 41us/step - loss: 0.0239 - accuracy: 0.9922 - val_loss: 0.1039 - val_accuracy: 0.9770\n",
      "Epoch 13/30\n",
      "60000/60000 [==============================] - 2s 39us/step - loss: 0.0213 - accuracy: 0.9928 - val_loss: 0.1126 - val_accuracy: 0.9752\n",
      "Epoch 14/30\n",
      "60000/60000 [==============================] - 2s 41us/step - loss: 0.0221 - accuracy: 0.9927 - val_loss: 0.1005 - val_accuracy: 0.9781\n",
      "Epoch 15/30\n",
      "60000/60000 [==============================] - 3s 45us/step - loss: 0.0191 - accuracy: 0.9937 - val_loss: 0.0974 - val_accuracy: 0.9766\n",
      "Epoch 16/30\n",
      "60000/60000 [==============================] - 2s 41us/step - loss: 0.0203 - accuracy: 0.9934 - val_loss: 0.1222 - val_accuracy: 0.9731\n",
      "Epoch 17/30\n",
      "60000/60000 [==============================] - 3s 42us/step - loss: 0.0159 - accuracy: 0.9949 - val_loss: 0.1233 - val_accuracy: 0.9742\n",
      "Epoch 18/30\n",
      "60000/60000 [==============================] - 3s 44us/step - loss: 0.0167 - accuracy: 0.9944 - val_loss: 0.1206 - val_accuracy: 0.9771\n",
      "Epoch 19/30\n",
      "60000/60000 [==============================] - 2s 41us/step - loss: 0.0158 - accuracy: 0.9946 - val_loss: 0.1118 - val_accuracy: 0.9773\n",
      "Epoch 20/30\n",
      "60000/60000 [==============================] - 3s 43us/step - loss: 0.0150 - accuracy: 0.9953 - val_loss: 0.1210 - val_accuracy: 0.9778\n",
      "Epoch 21/30\n",
      "60000/60000 [==============================] - 3s 45us/step - loss: 0.0161 - accuracy: 0.9952 - val_loss: 0.1136 - val_accuracy: 0.9778\n",
      "Epoch 22/30\n",
      "60000/60000 [==============================] - 2s 41us/step - loss: 0.0118 - accuracy: 0.9960 - val_loss: 0.1134 - val_accuracy: 0.9781\n",
      "Epoch 23/30\n",
      "60000/60000 [==============================] - 3s 44us/step - loss: 0.0123 - accuracy: 0.9959 - val_loss: 0.1415 - val_accuracy: 0.9744\n",
      "Epoch 24/30\n",
      "60000/60000 [==============================] - 3s 42us/step - loss: 0.0151 - accuracy: 0.9950 - val_loss: 0.1132 - val_accuracy: 0.9783\n",
      "Epoch 25/30\n",
      "60000/60000 [==============================] - 3s 43us/step - loss: 0.0121 - accuracy: 0.9963 - val_loss: 0.1382 - val_accuracy: 0.9775\n",
      "Epoch 26/30\n",
      "60000/60000 [==============================] - 2s 40us/step - loss: 0.0147 - accuracy: 0.9956 - val_loss: 0.1131 - val_accuracy: 0.9794\n",
      "Epoch 27/30\n",
      "60000/60000 [==============================] - 2s 42us/step - loss: 0.0100 - accuracy: 0.9970 - val_loss: 0.1545 - val_accuracy: 0.9721\n",
      "Epoch 28/30\n",
      "60000/60000 [==============================] - 3s 43us/step - loss: 0.0118 - accuracy: 0.9963 - val_loss: 0.1334 - val_accuracy: 0.9778\n",
      "Epoch 29/30\n",
      "60000/60000 [==============================] - 3s 44us/step - loss: 0.0122 - accuracy: 0.9960 - val_loss: 0.1217 - val_accuracy: 0.9787\n",
      "Epoch 30/30\n",
      "60000/60000 [==============================] - 3s 42us/step - loss: 0.0125 - accuracy: 0.9965 - val_loss: 0.1574 - val_accuracy: 0.9760\n"
     ]
    },
    {
     "data": {
      "text/plain": [
       "<keras.callbacks.callbacks.History at 0x13a1ba5e2b0>"
      ]
     },
     "execution_count": 8,
     "metadata": {},
     "output_type": "execute_result"
    }
   ],
   "source": [
    "model.fit(x_train, y_train,\n",
    "         batch_size=32,\n",
    "         epochs=30,\n",
    "         verbose=1,\n",
    "         validation_data=(x_test, y_test))"
   ]
  },
  {
   "cell_type": "markdown",
   "metadata": {},
   "source": [
    "### evaluate model"
   ]
  },
  {
   "cell_type": "code",
   "execution_count": 9,
   "metadata": {},
   "outputs": [
    {
     "name": "stdout",
     "output_type": "stream",
     "text": [
      "test loss : 0.15743413578382381 | test accuracy: 0.9760000109672546\n"
     ]
    }
   ],
   "source": [
    "score = model.evaluate(x_test, y_test, verbose=0)\n",
    "print(\"test loss : {} | test accuracy: {}\".format(score[0], score[1]))"
   ]
  }
 ],
 "metadata": {
  "kernelspec": {
   "display_name": "Python 3",
   "language": "python",
   "name": "python3"
  },
  "language_info": {
   "codemirror_mode": {
    "name": "ipython",
    "version": 3
   },
   "file_extension": ".py",
   "mimetype": "text/x-python",
   "name": "python",
   "nbconvert_exporter": "python",
   "pygments_lexer": "ipython3",
   "version": "3.7.3"
  }
 },
 "nbformat": 4,
 "nbformat_minor": 2
}
