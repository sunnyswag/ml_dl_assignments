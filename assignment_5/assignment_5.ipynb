{
 "cells": [
  {
   "cell_type": "code",
   "execution_count": 1,
   "metadata": {},
   "outputs": [],
   "source": [
    "import matplotlib.pyplot as plt\n",
    "import tensorflow as tf\n",
    "import numpy as np\n",
    "import math\n",
    "import h5py\n",
    "import os\n",
    "from keras.optimizers import Adam\n",
    "from keras.utils import np_utils\n",
    "from keras.layers import InputLayer, Input, Reshape, MaxPool2D, Conv2D, Dense, Flatten\n",
    "from keras.models import Sequential"
   ]
  },
  {
   "cell_type": "markdown",
   "metadata": {},
   "source": [
    "### read mnist dataset"
   ]
  },
  {
   "cell_type": "code",
   "execution_count": 2,
   "metadata": {},
   "outputs": [],
   "source": [
    "dataset_path = os.path.join(\"..\", \"assignment_4\")\n",
    "dataset_path = os.path.join(dataset_path, \"dataset\")\n",
    "dataset_path = os.path.join(dataset_path, \"mnist.npz\")\n",
    "\n",
    "dataset = np.load(dataset_path)\n",
    "x_train, y_train = dataset[\"x_train\"], dataset[\"y_train\"]\n",
    "x_test, y_test = dataset[\"x_test\"], dataset[\"y_test\"]"
   ]
  },
  {
   "cell_type": "code",
   "execution_count": 3,
   "metadata": {},
   "outputs": [
    {
     "name": "stdout",
     "output_type": "stream",
     "text": [
      "x_train.shape (60000, 28, 28)\n",
      "y_train.shape (60000,)\n",
      "x_test.shape (10000, 28, 28)\n",
      "y_test.shape (10000,)\n"
     ]
    }
   ],
   "source": [
    "print(\"x_train.shape\", x_train.shape)\n",
    "print(\"y_train.shape\", y_train.shape)\n",
    "print(\"x_test.shape\", x_test.shape)\n",
    "print(\"y_test.shape\", y_test.shape)"
   ]
  },
  {
   "cell_type": "code",
   "execution_count": 5,
   "metadata": {},
   "outputs": [
    {
     "name": "stdout",
     "output_type": "stream",
     "text": [
      "img_size :  28\n",
      "img_size_flat :  784\n",
      "img_shape :  (28, 28)\n",
      "img_shape_full :  (28, 28, 1)\n",
      "num_classes :  10\n",
      "num_channels :  1\n"
     ]
    }
   ],
   "source": [
    "img_size = x_train.shape[1]\n",
    "img_size_flat = x_train.shape[1] * x_train.shape[2]\n",
    "img_shape = x_train[0].shape\n",
    "img_shape_full = x_train[0].reshape((x_train.shape[1], x_train.shape[2], 1)).shape\n",
    "num_classes = 10\n",
    "num_channels = 1\n",
    "\n",
    "print(\"img_size : \", img_size)\n",
    "print(\"img_size_flat : \", img_size_flat)\n",
    "print(\"img_shape : \", img_shape)\n",
    "print(\"img_shape_full : \", img_shape_full)\n",
    "print(\"num_classes : \", num_classes)\n",
    "print(\"num_channels : \", num_channels)"
   ]
  },
  {
   "cell_type": "markdown",
   "metadata": {},
   "source": [
    "### define plot function"
   ]
  },
  {
   "cell_type": "code",
   "execution_count": null,
   "metadata": {},
   "outputs": [],
   "source": [
    "def plot_images(images, cls_true, cls_pred=None):\n",
    "    assert len(images) == len(cls_true) == 9\n",
    "    \n",
    "    fig, axes = plt.subplot(3,3)\n",
    "    fig.subplot_adjust(hspace=0.3, wspace=0.3)\n",
    "    plt.figure(figsize=(12,12))\n",
    "    \n",
    "    for i, ax in enumerate(axes.flat):\n",
    "        ax.imshow(images[i].reshape(img_shape))\n",
    "            \n",
    "        ax.set_xlabel(\"True : {}\".format(cls_true[i]) if cls_pred is None else\n",
    "                     \"True : {}, Pred : {}\".format(cls_true[i], cls_pred[i]))\n",
    "        \n",
    "        ax.set_xticks([])\n",
    "        ax.set_yticks([])\n",
    "        \n",
    "    plt.show()\n",
    "    \n",
    "\n"
   ]
  }
 ],
 "metadata": {
  "kernelspec": {
   "display_name": "Python 3",
   "language": "python",
   "name": "python3"
  },
  "language_info": {
   "codemirror_mode": {
    "name": "ipython",
    "version": 3
   },
   "file_extension": ".py",
   "mimetype": "text/x-python",
   "name": "python",
   "nbconvert_exporter": "python",
   "pygments_lexer": "ipython3",
   "version": "3.7.3"
  }
 },
 "nbformat": 4,
 "nbformat_minor": 2
}
